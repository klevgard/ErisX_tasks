{
 "cells": [
  {
   "cell_type": "code",
   "execution_count": 76,
   "id": "established-hometown",
   "metadata": {},
   "outputs": [],
   "source": [
    "import requests\n",
    "import pandas as pd"
   ]
  },
  {
   "cell_type": "code",
   "execution_count": 77,
   "id": "completed-lawsuit",
   "metadata": {},
   "outputs": [],
   "source": [
    "import json"
   ]
  },
  {
   "cell_type": "markdown",
   "id": "electric-battlefield",
   "metadata": {},
   "source": [
    "# BTC/USD"
   ]
  },
  {
   "cell_type": "code",
   "execution_count": 82,
   "id": "remarkable-brown",
   "metadata": {},
   "outputs": [],
   "source": [
    "from pandas import DataFrame\n",
    "df = DataFrame (columns=['timestamp','timestampms','tid','price','amount','exchange','type'])"
   ]
  },
  {
   "cell_type": "code",
   "execution_count": 83,
   "id": "exposed-nicaragua",
   "metadata": {},
   "outputs": [
    {
     "name": "stdout",
     "output_type": "stream",
     "text": [
      "ok\n",
      "ok\n",
      "ok\n",
      "ok\n",
      "ok\n",
      "ok\n",
      "ok\n",
      "ok\n",
      "ok\n",
      "ok\n",
      "ok\n",
      "ok\n",
      "ok\n",
      "ok\n",
      "ok\n",
      "ok\n",
      "ok\n",
      "ok\n",
      "ok\n",
      "ok\n",
      "ok\n",
      "ok\n",
      "ok\n",
      "ok\n",
      "ok\n",
      "ok\n",
      "ok\n",
      "ok\n",
      "ok\n",
      "ok\n"
     ]
    }
   ],
   "source": [
    "base_url = \"https://api.gemini.com/v1\"\n",
    "parameters = {\n",
    "    'timestamp': 1609459200,\n",
    "    'limit_trades': 500\n",
    "}\n",
    "ts_last = 1609459200\n",
    "tid_last = -1\n",
    "while (ts_last < 1609545600):\n",
    "    response = requests.get(base_url + \"/trades/btcusd\", params=parameters)\n",
    "    btcusd_trades = response.json()\n",
    "    df = df.append(btcusd_trades)\n",
    "    df = df.sort_values(by='timestamp', ascending=False)\n",
    "    tid_now = df['tid'].iloc[0]\n",
    "    if (tid_now == tid_last): ##used this in earlier iteration, unneccessary after increasing the limit on trades requested from 50 to 500\n",
    "        print(\"errror: same tid\")\n",
    "        ts_last = df['timestamp'].iloc[0] + 1\n",
    "        parameters = {\n",
    "            'timestamp': ts_last,\n",
    "            'limit_trades': 500\n",
    "        }\n",
    "    else:\n",
    "        ts_last = df['timestamp'].iloc[0]\n",
    "        parameters = {\n",
    "            'timestamp': ts_last,\n",
    "            'limit_trades': 500\n",
    "        }\n",
    "        tid_last = tid_now"
   ]
  },
  {
   "cell_type": "code",
   "execution_count": 84,
   "id": "unique-acquisition",
   "metadata": {},
   "outputs": [],
   "source": [
    "df_filtered = df[df['timestamp'] < 1609545600]"
   ]
  },
  {
   "cell_type": "code",
   "execution_count": 85,
   "id": "plain-kelly",
   "metadata": {},
   "outputs": [],
   "source": [
    "df_filtered = df_filtered.drop_duplicates()"
   ]
  },
  {
   "cell_type": "code",
   "execution_count": 86,
   "id": "informed-assist",
   "metadata": {},
   "outputs": [],
   "source": [
    "df_filtered.to_csv('./rawtrade_btcusd.csv', index=False)"
   ]
  },
  {
   "cell_type": "markdown",
   "id": "spanish-spanish",
   "metadata": {},
   "source": [
    "# ETH/BTC"
   ]
  },
  {
   "cell_type": "code",
   "execution_count": 87,
   "id": "spoken-context",
   "metadata": {},
   "outputs": [],
   "source": [
    "df = DataFrame (columns=['timestamp','timestampms','tid','price','amount','exchange','type'])"
   ]
  },
  {
   "cell_type": "code",
   "execution_count": 88,
   "id": "recognized-england",
   "metadata": {},
   "outputs": [],
   "source": [
    "base_url = \"https://api.gemini.com/v1\"\n",
    "parameters = {\n",
    "    'timestamp': 1609459200,\n",
    "    'limit_trades': 500\n",
    "}\n",
    "ts_last = 1609459200\n",
    "tid_last = -1\n",
    "while (ts_last < 1609545600):\n",
    "    response = requests.get(base_url + \"/trades/ethbtc\", params=parameters)\n",
    "    btcusd_trades = response.json()\n",
    "    df = df.append(btcusd_trades)\n",
    "    df = df.sort_values(by='timestamp', ascending=False)\n",
    "    tid_now = df['tid'].iloc[0]\n",
    "    if (tid_now == tid_last): ##used this in earlier iteration, unneccessary after increasing the limit on trades requested from 50 to 500\n",
    "        print(\"errror: same tid\")\n",
    "        ts_last = df['timestamp'].iloc[0] + 1\n",
    "        parameters = {\n",
    "            'timestamp': ts_last,\n",
    "            'limit_trades': 500\n",
    "        }\n",
    "    else:\n",
    "        ts_last = df['timestamp'].iloc[0]\n",
    "        parameters = {\n",
    "            'timestamp': ts_last,\n",
    "            'limit_trades': 500\n",
    "        }\n",
    "        tid_last = tid_now"
   ]
  },
  {
   "cell_type": "code",
   "execution_count": 89,
   "id": "wicked-outdoors",
   "metadata": {},
   "outputs": [],
   "source": [
    "df_filtered = df[df['timestamp'] < 1609545600]"
   ]
  },
  {
   "cell_type": "code",
   "execution_count": 90,
   "id": "mental-sudan",
   "metadata": {},
   "outputs": [],
   "source": [
    "df_filtered = df_filtered.drop_duplicates()"
   ]
  },
  {
   "cell_type": "code",
   "execution_count": 91,
   "id": "spanish-palestinian",
   "metadata": {},
   "outputs": [],
   "source": [
    "df_filtered.to_csv('./rawtrade_ethbtc.csv', index=False)"
   ]
  },
  {
   "cell_type": "code",
   "execution_count": null,
   "id": "instructional-pierre",
   "metadata": {},
   "outputs": [],
   "source": []
  }
 ],
 "metadata": {
  "kernelspec": {
   "display_name": "my_env",
   "language": "python",
   "name": "my_env"
  },
  "language_info": {
   "codemirror_mode": {
    "name": "ipython",
    "version": 3
   },
   "file_extension": ".py",
   "mimetype": "text/x-python",
   "name": "python",
   "nbconvert_exporter": "python",
   "pygments_lexer": "ipython3",
   "version": "3.9.2"
  }
 },
 "nbformat": 4,
 "nbformat_minor": 5
}
